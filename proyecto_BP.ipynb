{
 "cells": [
  {
   "cell_type": "markdown",
   "metadata": {},
   "source": [
    "Prueba para ver las imagenes"
   ]
  },
  {
   "cell_type": "code",
   "execution_count": 43,
   "metadata": {},
   "outputs": [
    {
     "data": {
      "image/png": "[encoded data removed]",
      "text/plain": [
       "<Figure size 640x480 with 1 Axes>"
      ]
     },
     "metadata": {},
     "output_type": "display_data"
    }
   ],
   "source": [
    "import pandas as pd\n",
    "import numpy as np\n",
    "import matplotlib.pyplot as plt\n",
    "\n",
    "df = pd.read_csv('dataset.csv')\n",
    "\n",
    "# selecciono fila del cvs\n",
    "first_row = df.iloc[476]\n",
    "\n",
    "# Obtener los valores de los píxeles y convertirlos en una lista de enteros\n",
    "pixels = list(map(int, first_row['pixels'].split()))\n",
    "\n",
    "# Convertir la lista de píxeles en un array de numpy\n",
    "pixels_array = np.array(pixels)\n",
    "\n",
    "# Remodelar el array en una imagen de 48x48 píxeles (suponiendo que las imágenes sean de 48x48)\n",
    "image = pixels_array.reshape(48, 48)\n",
    "\n",
    "# Mostrar la imagen\n",
    "plt.imshow(image, cmap='gray')\n",
    "plt.title(f'Emotion: {first_row[\"emotion\"]}')\n",
    "plt.axis('off')  # Opcional: para ocultar los ejes\n",
    "plt.show()\n"
   ]
  },
  {
   "cell_type": "markdown",
   "metadata": {},
   "source": [
    "Carga y procesamiento del csv"
   ]
  },
  {
   "cell_type": "code",
   "execution_count": 92,
   "metadata": {},
   "outputs": [
    {
     "name": "stdout",
     "output_type": "stream",
     "text": [
      "[[ 36  39  35 ... 193 251 253]\n",
      " [ 88  74  19 ...  50  27  33]\n",
      " [  9   2   4 ...   0   0   0]\n",
      " ...\n",
      " [ 45  16  11 ...  31  34  32]\n",
      " [ 12   7   6 ... 144 143 143]\n",
      " [ 53  53  53 ...  62  57  54]]\n",
      "[[False False False ...  True False False]\n",
      " [False False False ...  True False False]\n",
      " [False False False ...  True False False]\n",
      " ...\n",
      " [False False False ... False  True False]\n",
      " [False False False ... False  True False]\n",
      " [False False False ... False  True False]]\n"
     ]
    }
   ],
   "source": [
    "import pandas as pd\n",
    "import numpy as np\n",
    "from PIL import Image\n",
    "import matplotlib.pyplot as plt\n",
    "\n",
    "# Cargar el CSV\n",
    "data = pd.read_csv('dataset.csv')\n",
    "\n",
    "# Convertir los datos de píxeles a una matriz numpy\n",
    "def process_pixels(pixels):\n",
    "    pixels = np.array([int(pixel) for pixel in pixels.split()])\n",
    "    pixels = pixels.reshape(48, 48)\n",
    "    return pixels\n",
    "\n",
    "data['pixels'] = data['pixels'].apply(process_pixels)\n",
    "\n",
    "# Convertir emociones a una matriz de etiquetas\n",
    "emotion_dict = {0: 'Enojo', 1: 'Disgusto', 2: 'Miedo', 3: 'Felicidad', 4: 'Tristeza', 5: 'Sorpresa', 6: 'Neutral', 7: 'Desprecio',}\n",
    "data['emotion'] = data['emotion'].apply(lambda x: emotion_dict[x])\n",
    "\n",
    "# Dividir entre entrenamiento y prueba \n",
    "train_data = data[data['Usage'] == 'Training']\n",
    "test_data = data[data['Usage'] != 'Training']\n",
    "\n",
    "X_train = np.array([image.flatten() for image in train_data['pixels'].values])\n",
    "y_train = pd.get_dummies(train_data['emotion']).values\n",
    "\n",
    "X_test = np.array([image.flatten() for image in test_data['pixels'].values])\n",
    "y_test = pd.get_dummies(test_data['emotion']).values\n",
    "\n",
    "print(X_train)\n",
    "print(y_train)\n"
   ]
  },
  {
   "cell_type": "markdown",
   "metadata": {},
   "source": [
    "Paso 2: Implementación de la red neuronal con backpropagationVamos a crear una red neuronal con una capa de entrada (48*48), dos capas ocultas (128 y 64 neuronas) y una capa de salida (7 neuronas, una por cada emoción)."
   ]
  },
  {
   "cell_type": "markdown",
   "metadata": {},
   "source": [
    "Funciones de foward y backward "
   ]
  },
  {
   "cell_type": "code",
   "execution_count": 59,
   "metadata": {},
   "outputs": [
    {
     "name": "stdout",
     "output_type": "stream",
     "text": [
      "[[False False False ...  True False False]\n",
      " [False False False ...  True False False]\n",
      " [False False False ...  True False False]\n",
      " ...\n",
      " [False False False ... False  True False]\n",
      " [False False False ... False  True False]\n",
      " [False False False ... False  True False]]\n"
     ]
    }
   ],
   "source": [
    "\n",
    "\n",
    "# Funciones de activación\n",
    "# Definir la función sigmoide y su derivada\n",
    "def sigmoid(x):\n",
    "    return 1 / (1 + np.exp(-x))\n",
    "\n",
    "def sigmoid_derivative(x):\n",
    "    s = sigmoid(x)\n",
    "    return s * (1 - s)\n",
    "\n",
    "\n",
    "# Inicialización de parámetros\n",
    "print( y_train)\n",
    "\n",
    "input_size = X_train.shape[1]\n",
    "hidden_size = 128  # Ejemplo, puedes ajustar según tu caso\n",
    "output_size = y_train.shape[1]\n",
    "\n",
    "\n",
    "#Esto lo dejo para cuando se complej\n",
    "#input_neurons = 48 * 48\n",
    "#hidden_neurons1 = 128\n",
    "#hidden_neurons2 = 64\n",
    "#output_neurons = 7  # Hay 7 emociones\n",
    "\n",
    "\n",
    "W1 = np.random.randn(input_size, hidden_size)\n",
    "b1 = np.zeros((hidden_size, 1))\n",
    "W2 = np.random.randn(hidden_size, output_size)\n",
    "b2 = np.zeros((output_size, 1))\n",
    "\n",
    "# Hiperparámetros\n",
    "learning_rate = 0.1\n",
    "epochs = 50\n",
    "\n",
    "\n",
    "def forward(X):\n",
    "    Z1 = np.dot(W1.T, X) + b1\n",
    "    A1 = sigmoid(Z1)\n",
    "    Z2 = np.dot(W2.T, A1) + b2\n",
    "    A2 = sigmoid(Z2)\n",
    "    return A2, A1\n",
    "\n",
    "# Función de backward pass y actualización de pesos\n",
    "def backward(X, y_true, A1, output, learning_rate=0.01):\n",
    "    global W2, b2, W1, b1\n",
    "    error = y_true - output\n",
    "    d_output = error * sigmoid_derivative(output)\n",
    "    \n",
    "    error_hidden_layer = np.dot(W2, d_output)\n",
    "    d_hidden_layer = error_hidden_layer * sigmoid_derivative(A1)\n",
    "\n",
    "    # Actualización de pesos y sesgos\n",
    "    \n",
    "    W2 += learning_rate * np.dot(A1, d_output.T)\n",
    "    b2 += learning_rate * np.sum(d_output, axis=1, keepdims=True)\n",
    "    W1 += learning_rate * np.dot(X, d_hidden_layer.T)\n",
    "    b1 += learning_rate * np.sum(d_hidden_layer, axis=1, keepdims=True)"
   ]
  },
  {
   "cell_type": "markdown",
   "metadata": {},
   "source": [
    "Paso 3: Entrenamiento y predicciónImplementar el forward pass, calcular la pérdida y realizar el backward pass para ajustar los pesos y sesgos."
   ]
  },
  {
   "cell_type": "code",
   "execution_count": 60,
   "metadata": {},
   "outputs": [
    {
     "name": "stderr",
     "output_type": "stream",
     "text": [
      "C:\\Users\\Roman\\AppData\\Local\\Temp\\ipykernel_30864\\2983320945.py:4: RuntimeWarning: overflow encountered in exp\n",
      "  return 1 / (1 + np.exp(-x))\n"
     ]
    }
   ],
   "source": [
    "# Entrenamiento\n",
    "for epoch in range(50):  # número de iteraciones de ejemplo\n",
    "    for i in range(len(X_train)):  # iterar sobre cada muestra de entrenamiento\n",
    "        X = X_train[i].reshape(-1, 1)\n",
    "        y_true = y_train[i].reshape(-1, 1)\n",
    "        \n",
    "        output, A1 = forward(X)\n",
    "        backward(X, y_true, A1, output)"
   ]
  },
  {
   "cell_type": "code",
   "execution_count": null,
   "metadata": {},
   "outputs": [],
   "source": [
    "# 1. Obtener las predicciones\n",
    "predictions = forward(X_test)\n",
    "\n",
    "# 2. Evaluar el rendimiento\n",
    "from sklearn.metrics import accuracy_score, classification_report\n",
    "\n",
    "# Convertir las predicciones a etiquetas de clase\n",
    "predicted_labels = np.argmax(predictions, axis=1)\n",
    "\n",
    "# Calcular la precisión\n",
    "accuracy = accuracy_score(y_test, predicted_labels)\n",
    "print(\"Precisión:\", accuracy)\n",
    "\n",
    "# Mostrar un informe de clasificación\n",
    "print(\"Informe de clasificación:\")\n",
    "print(classification_report(y_test, predicted_labels))\n",
    "\n",
    "# 3. Visualizar los resultados (si es necesario)\n",
    "# Esto dependerá de tu problema específico y de las herramientas de visualización disponibles.\n"
   ]
  },
  {
   "cell_type": "code",
   "execution_count": 61,
   "metadata": {},
   "outputs": [
    {
     "name": "stderr",
     "output_type": "stream",
     "text": [
      "C:\\Users\\Roman\\AppData\\Local\\Temp\\ipykernel_30864\\2983320945.py:4: RuntimeWarning: overflow encountered in exp\n",
      "  return 1 / (1 + np.exp(-x))\n"
     ]
    },
    {
     "ename": "NameError",
     "evalue": "name 'accuracy' is not defined",
     "output_type": "error",
     "traceback": [
      "\u001b[1;31m---------------------------------------------------------------------------\u001b[0m",
      "\u001b[1;31mNameError\u001b[0m                                 Traceback (most recent call last)",
      "Cell \u001b[1;32mIn[61], line 20\u001b[0m\n\u001b[0;32m     17\u001b[0m y_test \u001b[38;5;241m=\u001b[39m np\u001b[38;5;241m.\u001b[39marray(y_test)\u001b[38;5;241m.\u001b[39msqueeze()\n\u001b[0;32m     19\u001b[0m \u001b[38;5;66;03m# Calcular la precisión\u001b[39;00m\n\u001b[1;32m---> 20\u001b[0m accuracy_score \u001b[38;5;241m=\u001b[39m \u001b[43maccuracy\u001b[49m(y_test, predictions)\n\u001b[0;32m     22\u001b[0m \u001b[38;5;28mprint\u001b[39m(\u001b[38;5;124m\"\u001b[39m\u001b[38;5;124mPrecisión del modelo:\u001b[39m\u001b[38;5;124m\"\u001b[39m, accuracy_score)\n",
      "\u001b[1;31mNameError\u001b[0m: name 'accuracy' is not defined"
     ]
    }
   ],
   "source": [
    "# Realizar la prueba\n",
    "predictions = []\n",
    "\n",
    "for i in range(len(X_test)):\n",
    "    X = X_test[i].reshape(-1, 1)\n",
    "    y_true = y_test[i].reshape(-1, 1)\n",
    "    \n",
    "    # Forward pass\n",
    "    output, _ = forward(X)\n",
    "    \n",
    "    # Redondear la salida para obtener la predicción (asumiendo que es una clasificación binaria)\n",
    "    prediction = np.round(output)\n",
    "    predictions.append(prediction)\n",
    "\n",
    "# Convertir las listas de predicciones y etiquetas de prueba en matrices numpy\n",
    "predictions = np.array(predictions).squeeze()  # Eliminar dimensiones redundantes\n",
    "y_test = np.array(y_test).squeeze()\n",
    "\n",
    "# Calcular la precisión\n",
    "accuracy_score = accuracy(y_test, predictions)\n",
    "\n",
    "print(\"Precisión del modelo:\", accuracy_score)\n"
   ]
  },
  {
   "cell_type": "code",
   "execution_count": 87,
   "metadata": {},
   "outputs": [
    {
     "name": "stdout",
     "output_type": "stream",
     "text": [
      "[83 84 84 ... 79 81 77]\n"
     ]
    },
    {
     "data": {
      "image/png": "[encoded data removed]",
      "text/plain": [
       "<Figure size 640x480 with 1 Axes>"
      ]
     },
     "metadata": {},
     "output_type": "display_data"
    }
   ],
   "source": [
    "#A ver la imagen que voy a mandar? \n",
    "indice = 120\n",
    "print(X_test[indice])\n",
    "pixels = X_test[indice]\n",
    "image = pixels.reshape(48, 48)\n",
    "\n",
    "# Mostrar la imagen\n",
    "plt.imshow(image, cmap='gray')\n",
    "plt.title(f'Emotion: {first_row[\"emotion\"]}')\n",
    "plt.axis('off')  # Opcional: para ocultar los ejes\n",
    "plt.show()\n",
    "\n"
   ]
  },
  {
   "cell_type": "code",
   "execution_count": 91,
   "metadata": {},
   "outputs": [
    {
     "name": "stdout",
     "output_type": "stream",
     "text": [
      "[[0.]\n",
      " [0.]\n",
      " [0.]\n",
      " [0.]\n",
      " [0.]\n",
      " [0.]\n",
      " [1.]\n",
      " [0.]]\n",
      "La emoción predicha para la línea 123 del conjunto de prueba es: Neutral   6\n"
     ]
    },
    {
     "name": "stderr",
     "output_type": "stream",
     "text": [
      "C:\\Users\\Roman\\AppData\\Local\\Temp\\ipykernel_30864\\2983320945.py:4: RuntimeWarning: overflow encountered in exp\n",
      "  return 1 / (1 + np.exp(-x))\n"
     ]
    }
   ],
   "source": [
    "def predict_emotion(index):\n",
    "    # Seleccionar la línea específica del conjunto de prueba\n",
    "    X = X_test[index].reshape(-1, 1)\n",
    "\n",
    "    # Realizar la predicción usando la red neuronal ya entrenada\n",
    "    output, _ = forward(X)\n",
    "\n",
    "    # Redondear la salida para obtener la predicción (asumiendo que es una clasificación binaria)\n",
    "    prediction = np.round(output)\n",
    "    print(prediction)\n",
    "    # Convertir la predicción a la etiqueta de emoción\n",
    "    predicted_emotion = emotion_dict[prediction.argmax()]\n",
    "\n",
    "    # Imprimir la emoción predicha\n",
    "    print(\"La emoción predicha para la línea {} del conjunto de prueba es: {}   {}\".format(index, predicted_emotion, prediction.argmax()))\n",
    "\n",
    "# Índice de la línea que deseas predecir\n",
    "index_to_predict = 123  # Cambia esto al índice deseado\n",
    "\n",
    "# Hacer la predicción\n",
    "predict_emotion(index_to_predict)\n"
   ]
  }
 ],
 "metadata": {
  "kernelspec": {
   "display_name": "Python 3",
   "language": "python",
   "name": "python3"
  },
  "language_info": {
   "codemirror_mode": {
    "name": "ipython",
    "version": 3
   },
   "file_extension": ".py",
   "mimetype": "text/x-python",
   "name": "python",
   "nbconvert_exporter": "python",
   "pygments_lexer": "ipython3",
   "version": "3.11.2"
  }
 },
 "nbformat": 4,
 "nbformat_minor": 2
}
