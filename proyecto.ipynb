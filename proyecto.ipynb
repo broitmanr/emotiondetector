{
 "cells": [
  {
   "cell_type": "markdown",
   "metadata": {},
   "source": [
    "Importar las librerias"
   ]
  },
  {
   "cell_type": "code",
   "execution_count": 41,
   "metadata": {},
   "outputs": [],
   "source": [
    "#Pytorch\n",
    "import torch\n",
    "import torch.nn as nn\n",
    "import torch.optim as optim\n",
    "#Sirve para transformar la imagen en bytes \n",
    "from torchvision import datasets, transforms"
   ]
  },
  {
   "cell_type": "code",
   "execution_count": 3,
   "metadata": {},
   "outputs": [
    {
     "name": "stdout",
     "output_type": "stream",
     "text": [
      "Dispositivo de cómputo: cpu\n"
     ]
    }
   ],
   "source": [
    "# con esto vemos si tenemos disponible una placa de video para procesar, sino utiliza el cpu\n",
    "device = torch.device(\"cuda:0\" if torch.cuda.is_available() else \"cpu\")\n",
    "print(\"Dispositivo de cómputo:\", device)"
   ]
  },
  {
   "cell_type": "code",
   "execution_count": 4,
   "metadata": {},
   "outputs": [],
   "source": [
    "# Definir transformaciones de las imagenes\n",
    "transform = transforms.Compose([\n",
    "    transforms.Grayscale(),\n",
    "    transforms.Resize((48, 48)),\n",
    "    transforms.ToTensor(),\n",
    "])"
   ]
  },
  {
   "cell_type": "code",
   "execution_count": 13,
   "metadata": {},
   "outputs": [],
   "source": [
    "# Cargar datos de entrenamiento y prueba\n",
    "train_data = datasets.ImageFolder(root=\".\\\\train\", transform=transform)\n",
    "#con esto se generan lotes chiquitos para el entrenamiento \n",
    "trainloader = torch.utils.data.DataLoader(train_data, batch_size=4, shuffle=True)\n",
    "\n",
    "test_data = datasets.ImageFolder(root=\".\\\\test\", transform=transform)\n",
    "testloader = torch.utils.data.DataLoader(test_data, batch_size=4, shuffle=False)"
   ]
  },
  {
   "cell_type": "code",
   "execution_count": 19,
   "metadata": {},
   "outputs": [],
   "source": [
    "# Definir la arquitectura de la red neuronal\n",
    "class MiRedNeuronal(nn.Module):\n",
    "    def __init__(self):\n",
    "        super(MiRedNeuronal, self).__init__()\n",
    "        self.fc1 = nn.Linear(48 * 48, 128)\n",
    "        self.fc2 = nn.Linear(128, 128)\n",
    "        self.fc3 = nn.Linear(128,64)\n",
    "        self.fc4 = nn.Linear(64, 4)\n",
    "\n",
    "    def forward(self, x):\n",
    "        x = x.view(-1, 48 * 48)\n",
    "        x = torch.relu(self.fc1(x))\n",
    "        x = torch.relu(self.fc2(x))\n",
    "        x = torch.relu(self.fc3(x))\n",
    "        x = self.fc4(x)\n",
    "        return x\n"
   ]
  },
  {
   "cell_type": "code",
   "execution_count": 20,
   "metadata": {},
   "outputs": [],
   "source": [
    "model = MiRedNeuronal().to(device)"
   ]
  },
  {
   "cell_type": "code",
   "execution_count": 21,
   "metadata": {},
   "outputs": [],
   "source": [
    "# Definir la función de pérdida y el optimizador\n",
    "criterion = nn.CrossEntropyLoss()\n",
    "optimizer = optim.SGD(model.parameters(), lr=0.01)"
   ]
  },
  {
   "cell_type": "code",
   "execution_count": 22,
   "metadata": {},
   "outputs": [
    {
     "name": "stdout",
     "output_type": "stream",
     "text": [
      "[1,  1000] loss: 1.349\n",
      "[1,  2000] loss: 1.339\n",
      "[2,  1000] loss: 1.305\n",
      "[2,  2000] loss: 1.299\n",
      "[3,  1000] loss: 1.275\n",
      "[3,  2000] loss: 1.273\n",
      "[4,  1000] loss: 1.258\n",
      "[4,  2000] loss: 1.246\n",
      "[5,  1000] loss: 1.242\n",
      "[5,  2000] loss: 1.233\n",
      "[6,  1000] loss: 1.225\n",
      "[6,  2000] loss: 1.221\n",
      "[7,  1000] loss: 1.217\n",
      "[7,  2000] loss: 1.210\n",
      "[8,  1000] loss: 1.202\n",
      "[8,  2000] loss: 1.202\n",
      "[9,  1000] loss: 1.187\n",
      "[9,  2000] loss: 1.192\n",
      "[10,  1000] loss: 1.189\n",
      "[10,  2000] loss: 1.180\n",
      "Entrenamiento finalizado\n"
     ]
    }
   ],
   "source": [
    "# Entrenamiento del modelo\n",
    "num_epochs = 10\n",
    "for epoch in range(num_epochs):\n",
    "    running_loss = 0.0\n",
    "    for i, data in enumerate(trainloader, 0):\n",
    "        inputs, labels = data[0].to(device), data[1].to(device)\n",
    "        optimizer.zero_grad()\n",
    "        outputs = model(inputs)\n",
    "        loss = criterion(outputs, labels)\n",
    "        loss.backward()\n",
    "        optimizer.step()\n",
    "        running_loss += loss.item()\n",
    "        if i % 1000 == 999:\n",
    "            print('[%d, %5d] loss: %.3f' %\n",
    "                  (epoch + 1, i + 1, running_loss / 1000))\n",
    "            running_loss = 0.0\n",
    "\n",
    "print('Entrenamiento finalizado')"
   ]
  },
  {
   "cell_type": "code",
   "execution_count": 23,
   "metadata": {},
   "outputs": [
    {
     "name": "stdout",
     "output_type": "stream",
     "text": [
      "Precisión del modelo en el conjunto de datos de prueba: 46 %\n"
     ]
    }
   ],
   "source": [
    "# Evaluación del modelo\n",
    "correct = 0\n",
    "total = 0\n",
    "with torch.no_grad():\n",
    "    for data in testloader:\n",
    "        images, labels = data[0].to(device), data[1].to(device)\n",
    "        outputs = model(images)\n",
    "        _, predicted = torch.max(outputs.data, 1)\n",
    "        total += labels.size(0)\n",
    "        correct += (predicted == labels).sum().item()\n",
    "\n",
    "print('Precisión del modelo en el conjunto de datos de prueba: %d %%' % (\n",
    "    100 * correct / total))"
   ]
  },
  {
   "cell_type": "code",
   "execution_count": 40,
   "metadata": {},
   "outputs": [
    {
     "name": "stdout",
     "output_type": "stream",
     "text": [
      "miedo\n"
     ]
    }
   ],
   "source": [
    "from PIL import Image\n",
    "# Cargar la imagen de entrada\n",
    "image_path = \".//train/happy/Training_99599521.jpg\"\n",
    "input_image = Image.open(image_path)\n",
    "input_tensor = transform(input_image).unsqueeze(0)  # Añadir una dimensión adicional para el mini lote\n",
    "\n",
    "# Mover la imagen al dispositivo de cómputo (CPU o GPU)\n",
    "device = torch.device(\"cuda:0\" if torch.cuda.is_available() else \"cpu\")\n",
    "input_tensor = input_tensor.to(device)\n",
    "\n",
    "# Pasar la imagen a través del modelo para obtener las predicciones\n",
    "with torch.no_grad():\n",
    "    model.eval()  # Cambiar al modo de evaluación\n",
    "    outputs = model(input_tensor)\n",
    "\n",
    "# Obtener la emoción predicha\n",
    "_, predicted = torch.max(outputs, 1)\n",
    "emotion_labels = ['enojo','miedo','felicidad','tristeza']\n",
    "predicted_emotion = emotion_labels[predicted.item()]\n",
    "\n",
    "print(predicted_emotion)\n",
    "\n"
   ]
  }
 ],
 "metadata": {
  "kernelspec": {
   "display_name": "Python 3",
   "language": "python",
   "name": "python3"
  },
  "language_info": {
   "codemirror_mode": {
    "name": "ipython",
    "version": 3
   },
   "file_extension": ".py",
   "mimetype": "text/x-python",
   "name": "python",
   "nbconvert_exporter": "python",
   "pygments_lexer": "ipython3",
   "version": "3.11.2"
  }
 },
 "nbformat": 4,
 "nbformat_minor": 2
}
